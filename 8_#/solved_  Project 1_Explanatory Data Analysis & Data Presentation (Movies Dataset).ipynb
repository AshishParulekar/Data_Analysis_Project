{
 "cells": [
  {
   "cell_type": "code",
   "execution_count": 485,
   "id": "08e943fa",
   "metadata": {},
   "outputs": [],
   "source": [
    "import pandas as pd \n",
    "from IPython.display import HTML"
   ]
  },
  {
   "cell_type": "code",
   "execution_count": 486,
   "id": "a876a16b",
   "metadata": {},
   "outputs": [],
   "source": [
    "# Data Import and first Inspection"
   ]
  },
  {
   "cell_type": "code",
   "execution_count": 487,
   "id": "041c8abc",
   "metadata": {},
   "outputs": [],
   "source": [
    "Data=pd.read_csv('movies_complete.csv')"
   ]
  },
  {
   "cell_type": "markdown",
   "id": "60b68d74",
   "metadata": {},
   "source": [
    "__Some additional information on Features/Columns__:\n",
    "\n",
    "* **id:** The ID of the movie (clear/unique identifier).\n",
    "* **title:** The Official Title of the movie.\n",
    "* **tagline:** The tagline of the movie.\n",
    "* **release_date:** Theatrical Release Date of the movie.\n",
    "* **genres:** Genres associated with the movie.\n",
    "* **belongs_to_collection:** Gives information on the movie series/franchise the particular film belongs to.\n",
    "* **original_language:** The language in which the movie was originally shot in.\n",
    "* **budget_musd:** The budget of the movie in million dollars.\n",
    "* **revenue_musd:** The total revenue of the movie in million dollars.\n",
    "* **production_companies:** Production companies involved with the making of the movie.\n",
    "* **production_countries:** Countries where the movie was shot/produced in.\n",
    "* **vote_count:** The number of votes by users, as counted by TMDB.\n",
    "* **vote_average:** The average rating of the movie.\n",
    "* **popularity:** The Popularity Score assigned by TMDB.\n",
    "* **runtime:** The runtime of the movie in minutes.\n",
    "* **overview:** A brief blurb of the movie.\n",
    "* **spoken_languages:** Spoken languages in the film.\n",
    "* **poster_path:** The URL of the poster image.\n",
    "* **cast:** (Main) Actors appearing in the movie.\n",
    "* **cast_size:** number of Actors appearing in the movie.\n",
    "* **director:** Director of the movie.\n",
    "* **crew_size:** Size of the film crew (incl. director, excl. actors)."
   ]
  },
  {
   "cell_type": "code",
   "execution_count": 488,
   "id": "d4217bc1",
   "metadata": {},
   "outputs": [
    {
     "data": {
      "text/html": [
       "<div>\n",
       "<style scoped>\n",
       "    .dataframe tbody tr th:only-of-type {\n",
       "        vertical-align: middle;\n",
       "    }\n",
       "\n",
       "    .dataframe tbody tr th {\n",
       "        vertical-align: top;\n",
       "    }\n",
       "\n",
       "    .dataframe thead th {\n",
       "        text-align: right;\n",
       "    }\n",
       "</style>\n",
       "<table border=\"1\" class=\"dataframe\">\n",
       "  <thead>\n",
       "    <tr style=\"text-align: right;\">\n",
       "      <th></th>\n",
       "      <th>id</th>\n",
       "      <th>title</th>\n",
       "      <th>tagline</th>\n",
       "      <th>release_date</th>\n",
       "      <th>genres</th>\n",
       "      <th>belongs_to_collection</th>\n",
       "      <th>original_language</th>\n",
       "      <th>budget_musd</th>\n",
       "      <th>revenue_musd</th>\n",
       "      <th>production_companies</th>\n",
       "      <th>...</th>\n",
       "      <th>vote_average</th>\n",
       "      <th>popularity</th>\n",
       "      <th>runtime</th>\n",
       "      <th>overview</th>\n",
       "      <th>spoken_languages</th>\n",
       "      <th>poster_path</th>\n",
       "      <th>cast</th>\n",
       "      <th>cast_size</th>\n",
       "      <th>crew_size</th>\n",
       "      <th>director</th>\n",
       "    </tr>\n",
       "  </thead>\n",
       "  <tbody>\n",
       "    <tr>\n",
       "      <th>0</th>\n",
       "      <td>862</td>\n",
       "      <td>Toy Story</td>\n",
       "      <td>NaN</td>\n",
       "      <td>1995-10-30</td>\n",
       "      <td>Animation|Comedy|Family</td>\n",
       "      <td>Toy Story Collection</td>\n",
       "      <td>en</td>\n",
       "      <td>30.0</td>\n",
       "      <td>373.554033</td>\n",
       "      <td>Pixar Animation Studios</td>\n",
       "      <td>...</td>\n",
       "      <td>7.7</td>\n",
       "      <td>21.946943</td>\n",
       "      <td>81.0</td>\n",
       "      <td>Led by Woody, Andy's toys live happily in his ...</td>\n",
       "      <td>English</td>\n",
       "      <td>&lt;img src='http://image.tmdb.org/t/p/w185//uXDf...</td>\n",
       "      <td>Tom Hanks|Tim Allen|Don Rickles|Jim Varney|Wal...</td>\n",
       "      <td>13</td>\n",
       "      <td>106</td>\n",
       "      <td>John Lasseter</td>\n",
       "    </tr>\n",
       "    <tr>\n",
       "      <th>1</th>\n",
       "      <td>8844</td>\n",
       "      <td>Jumanji</td>\n",
       "      <td>Roll the dice and unleash the excitement!</td>\n",
       "      <td>1995-12-15</td>\n",
       "      <td>Adventure|Fantasy|Family</td>\n",
       "      <td>NaN</td>\n",
       "      <td>en</td>\n",
       "      <td>65.0</td>\n",
       "      <td>262.797249</td>\n",
       "      <td>TriStar Pictures|Teitler Film|Interscope Commu...</td>\n",
       "      <td>...</td>\n",
       "      <td>6.9</td>\n",
       "      <td>17.015539</td>\n",
       "      <td>104.0</td>\n",
       "      <td>When siblings Judy and Peter discover an encha...</td>\n",
       "      <td>English|Français</td>\n",
       "      <td>&lt;img src='http://image.tmdb.org/t/p/w185//vgpX...</td>\n",
       "      <td>Robin Williams|Jonathan Hyde|Kirsten Dunst|Bra...</td>\n",
       "      <td>26</td>\n",
       "      <td>16</td>\n",
       "      <td>Joe Johnston</td>\n",
       "    </tr>\n",
       "    <tr>\n",
       "      <th>2</th>\n",
       "      <td>15602</td>\n",
       "      <td>Grumpier Old Men</td>\n",
       "      <td>Still Yelling. Still Fighting. Still Ready for...</td>\n",
       "      <td>1995-12-22</td>\n",
       "      <td>Romance|Comedy</td>\n",
       "      <td>Grumpy Old Men Collection</td>\n",
       "      <td>en</td>\n",
       "      <td>NaN</td>\n",
       "      <td>NaN</td>\n",
       "      <td>Warner Bros.|Lancaster Gate</td>\n",
       "      <td>...</td>\n",
       "      <td>6.5</td>\n",
       "      <td>11.712900</td>\n",
       "      <td>101.0</td>\n",
       "      <td>A family wedding reignites the ancient feud be...</td>\n",
       "      <td>English</td>\n",
       "      <td>&lt;img src='http://image.tmdb.org/t/p/w185//1FSX...</td>\n",
       "      <td>Walter Matthau|Jack Lemmon|Ann-Margret|Sophia ...</td>\n",
       "      <td>7</td>\n",
       "      <td>4</td>\n",
       "      <td>Howard Deutch</td>\n",
       "    </tr>\n",
       "  </tbody>\n",
       "</table>\n",
       "<p>3 rows × 22 columns</p>\n",
       "</div>"
      ],
      "text/plain": [
       "      id             title                                            tagline  \\\n",
       "0    862         Toy Story                                                NaN   \n",
       "1   8844           Jumanji          Roll the dice and unleash the excitement!   \n",
       "2  15602  Grumpier Old Men  Still Yelling. Still Fighting. Still Ready for...   \n",
       "\n",
       "  release_date                    genres      belongs_to_collection  \\\n",
       "0   1995-10-30   Animation|Comedy|Family       Toy Story Collection   \n",
       "1   1995-12-15  Adventure|Fantasy|Family                        NaN   \n",
       "2   1995-12-22            Romance|Comedy  Grumpy Old Men Collection   \n",
       "\n",
       "  original_language  budget_musd  revenue_musd  \\\n",
       "0                en         30.0    373.554033   \n",
       "1                en         65.0    262.797249   \n",
       "2                en          NaN           NaN   \n",
       "\n",
       "                                production_companies  ... vote_average  \\\n",
       "0                            Pixar Animation Studios  ...          7.7   \n",
       "1  TriStar Pictures|Teitler Film|Interscope Commu...  ...          6.9   \n",
       "2                        Warner Bros.|Lancaster Gate  ...          6.5   \n",
       "\n",
       "   popularity  runtime                                           overview  \\\n",
       "0   21.946943     81.0  Led by Woody, Andy's toys live happily in his ...   \n",
       "1   17.015539    104.0  When siblings Judy and Peter discover an encha...   \n",
       "2   11.712900    101.0  A family wedding reignites the ancient feud be...   \n",
       "\n",
       "   spoken_languages                                        poster_path  \\\n",
       "0           English  <img src='http://image.tmdb.org/t/p/w185//uXDf...   \n",
       "1  English|Français  <img src='http://image.tmdb.org/t/p/w185//vgpX...   \n",
       "2           English  <img src='http://image.tmdb.org/t/p/w185//1FSX...   \n",
       "\n",
       "                                                cast cast_size crew_size  \\\n",
       "0  Tom Hanks|Tim Allen|Don Rickles|Jim Varney|Wal...        13       106   \n",
       "1  Robin Williams|Jonathan Hyde|Kirsten Dunst|Bra...        26        16   \n",
       "2  Walter Matthau|Jack Lemmon|Ann-Margret|Sophia ...         7         4   \n",
       "\n",
       "        director  \n",
       "0  John Lasseter  \n",
       "1   Joe Johnston  \n",
       "2  Howard Deutch  \n",
       "\n",
       "[3 rows x 22 columns]"
      ]
     },
     "execution_count": 488,
     "metadata": {},
     "output_type": "execute_result"
    }
   ],
   "source": [
    "Data.head(3)"
   ]
  },
  {
   "cell_type": "code",
   "execution_count": 489,
   "id": "03214dcf",
   "metadata": {},
   "outputs": [],
   "source": [
    "#Data=Data.set_index('title')"
   ]
  },
  {
   "cell_type": "code",
   "execution_count": 490,
   "id": "4923741b",
   "metadata": {},
   "outputs": [
    {
     "data": {
      "text/plain": [
       "id                           0\n",
       "title                        0\n",
       "tagline                  24407\n",
       "release_date                34\n",
       "genres                    2105\n",
       "belongs_to_collection    40228\n",
       "original_language           10\n",
       "budget_musd              35837\n",
       "revenue_musd             37306\n",
       "production_companies     11335\n",
       "production_countries      5856\n",
       "vote_count                   0\n",
       "vote_average              2614\n",
       "popularity                   0\n",
       "runtime                   1512\n",
       "overview                   951\n",
       "spoken_languages          3597\n",
       "poster_path                224\n",
       "cast                      2189\n",
       "cast_size                    0\n",
       "crew_size                    0\n",
       "director                   731\n",
       "dtype: int64"
      ]
     },
     "execution_count": 490,
     "metadata": {},
     "output_type": "execute_result"
    }
   ],
   "source": [
    "Data.isnull().sum()"
   ]
  },
  {
   "cell_type": "code",
   "execution_count": 491,
   "id": "043a44b2",
   "metadata": {},
   "outputs": [
    {
     "data": {
      "text/plain": [
       "(44691, 22)"
      ]
     },
     "execution_count": 491,
     "metadata": {},
     "output_type": "execute_result"
    }
   ],
   "source": [
    "Data.shape"
   ]
  },
  {
   "cell_type": "code",
   "execution_count": 492,
   "id": "b4da1161",
   "metadata": {},
   "outputs": [],
   "source": [
    "Data['profit']=Data['revenue_musd']-Data['budget_musd']\n",
    "Data['ROI']=(Data['revenue_musd']/Data['budget_musd'])*100"
   ]
  },
  {
   "cell_type": "code",
   "execution_count": null,
   "id": "46b08050",
   "metadata": {},
   "outputs": [],
   "source": []
  },
  {
   "cell_type": "code",
   "execution_count": 493,
   "id": "df7e8a3c",
   "metadata": {},
   "outputs": [],
   "source": [
    "#_function\n",
    "\n",
    "def filter_data(Basis,Number_Of_Record,ascending,min_bud=0,minRating=0):\n",
    "    B=Basis\n",
    "    N=Number_Of_Record\n",
    "    A=ascending\n",
    "    subData=Data[(Data['budget_musd']>=min_bud)&(Data['vote_average']>=minRating)]\n",
    "    Record=subData.sort_values(by=B,ascending=A)[0:N][['title','poster_path',B]].set_index('title')\n",
    "    return HTML(Record.to_html(escape=False))"
   ]
  },
  {
   "cell_type": "code",
   "execution_count": 494,
   "id": "219ef501",
   "metadata": {},
   "outputs": [
    {
     "data": {
      "text/html": [
       "<table border=\"1\" class=\"dataframe\">\n",
       "  <thead>\n",
       "    <tr style=\"text-align: right;\">\n",
       "      <th></th>\n",
       "      <th>poster_path</th>\n",
       "      <th>revenue_musd</th>\n",
       "    </tr>\n",
       "    <tr>\n",
       "      <th>title</th>\n",
       "      <th></th>\n",
       "      <th></th>\n",
       "    </tr>\n",
       "  </thead>\n",
       "  <tbody>\n",
       "    <tr>\n",
       "      <th>Avatar</th>\n",
       "      <td><img src='http://image.tmdb.org/t/p/w185//btnl50ZDJDSCal2NLQIYWw0XxvH.jpg' style='height:100px;'></td>\n",
       "      <td>2787.965087</td>\n",
       "    </tr>\n",
       "    <tr>\n",
       "      <th>Star Wars: The Force Awakens</th>\n",
       "      <td><img src='http://image.tmdb.org/t/p/w185//9rd002JS49RwDW944fF1wjU8iTV.jpg' style='height:100px;'></td>\n",
       "      <td>2068.223624</td>\n",
       "    </tr>\n",
       "    <tr>\n",
       "      <th>Titanic</th>\n",
       "      <td><img src='http://image.tmdb.org/t/p/w185//9xjZS2rlVxm8SFx8kPC3aIGCOYQ.jpg' style='height:100px;'></td>\n",
       "      <td>1845.034188</td>\n",
       "    </tr>\n",
       "    <tr>\n",
       "      <th>The Avengers</th>\n",
       "      <td><img src='http://image.tmdb.org/t/p/w185//RYMX2wcKCBAr24UyPD7xwmjaTn.jpg' style='height:100px;'></td>\n",
       "      <td>1519.557910</td>\n",
       "    </tr>\n",
       "    <tr>\n",
       "      <th>Jurassic World</th>\n",
       "      <td><img src='http://image.tmdb.org/t/p/w185//rhr4y79GpxQF9IsfJItRXVaoGs4.jpg' style='height:100px;'></td>\n",
       "      <td>1513.528810</td>\n",
       "    </tr>\n",
       "  </tbody>\n",
       "</table>"
      ],
      "text/plain": [
       "<IPython.core.display.HTML object>"
      ]
     },
     "execution_count": 494,
     "metadata": {},
     "output_type": "execute_result"
    }
   ],
   "source": [
    "#__Movies Top 5 - Highest Revenue__\n",
    "Top_5_movie_highest_Revenue=filter_data('revenue_musd',5,False)\n",
    "Top_5_movie_highest_Revenue\n"
   ]
  },
  {
   "cell_type": "code",
   "execution_count": 495,
   "id": "4cd36f9a",
   "metadata": {},
   "outputs": [
    {
     "data": {
      "text/html": [
       "<table border=\"1\" class=\"dataframe\">\n",
       "  <thead>\n",
       "    <tr style=\"text-align: right;\">\n",
       "      <th></th>\n",
       "      <th>poster_path</th>\n",
       "      <th>budget_musd</th>\n",
       "    </tr>\n",
       "    <tr>\n",
       "      <th>title</th>\n",
       "      <th></th>\n",
       "      <th></th>\n",
       "    </tr>\n",
       "  </thead>\n",
       "  <tbody>\n",
       "    <tr>\n",
       "      <th>Pirates of the Caribbean: On Stranger Tides</th>\n",
       "      <td><img src='http://image.tmdb.org/t/p/w185//keGfSvCmYj7CvdRx36OdVrAEibE.jpg' style='height:100px;'></td>\n",
       "      <td>380.0</td>\n",
       "    </tr>\n",
       "    <tr>\n",
       "      <th>Pirates of the Caribbean: At World's End</th>\n",
       "      <td><img src='http://image.tmdb.org/t/p/w185//oVh3REsCwJwmrTkZ9OkkeKiAE02.jpg' style='height:100px;'></td>\n",
       "      <td>300.0</td>\n",
       "    </tr>\n",
       "    <tr>\n",
       "      <th>Avengers: Age of Ultron</th>\n",
       "      <td><img src='http://image.tmdb.org/t/p/w185//4ssDuvEDkSArWEdyBl2X5EHvYKU.jpg' style='height:100px;'></td>\n",
       "      <td>280.0</td>\n",
       "    </tr>\n",
       "    <tr>\n",
       "      <th>Superman Returns</th>\n",
       "      <td><img src='http://image.tmdb.org/t/p/w185//6ZYOpyhFZrAQIe1BuhqVgzfAdGZ.jpg' style='height:100px;'></td>\n",
       "      <td>270.0</td>\n",
       "    </tr>\n",
       "    <tr>\n",
       "      <th>John Carter</th>\n",
       "      <td><img src='http://image.tmdb.org/t/p/w185//7GSSyUUgUEXm1rhmiPGSRuKoqnK.jpg' style='height:100px;'></td>\n",
       "      <td>260.0</td>\n",
       "    </tr>\n",
       "  </tbody>\n",
       "</table>"
      ],
      "text/plain": [
       "<IPython.core.display.HTML object>"
      ]
     },
     "execution_count": 495,
     "metadata": {},
     "output_type": "execute_result"
    }
   ],
   "source": [
    "#__Movies Top 5 - Highest Budget__\n",
    "Top_5_movie_highest_Budget=filter_data('budget_musd',5,False)\n",
    "Top_5_movie_highest_Budget"
   ]
  },
  {
   "cell_type": "code",
   "execution_count": 496,
   "id": "263aba99",
   "metadata": {},
   "outputs": [
    {
     "data": {
      "text/html": [
       "<table border=\"1\" class=\"dataframe\">\n",
       "  <thead>\n",
       "    <tr style=\"text-align: right;\">\n",
       "      <th></th>\n",
       "      <th>poster_path</th>\n",
       "      <th>profit</th>\n",
       "    </tr>\n",
       "    <tr>\n",
       "      <th>title</th>\n",
       "      <th></th>\n",
       "      <th></th>\n",
       "    </tr>\n",
       "  </thead>\n",
       "  <tbody>\n",
       "    <tr>\n",
       "      <th>Avatar</th>\n",
       "      <td><img src='http://image.tmdb.org/t/p/w185//btnl50ZDJDSCal2NLQIYWw0XxvH.jpg' style='height:100px;'></td>\n",
       "      <td>2550.965087</td>\n",
       "    </tr>\n",
       "    <tr>\n",
       "      <th>Star Wars: The Force Awakens</th>\n",
       "      <td><img src='http://image.tmdb.org/t/p/w185//9rd002JS49RwDW944fF1wjU8iTV.jpg' style='height:100px;'></td>\n",
       "      <td>1823.223624</td>\n",
       "    </tr>\n",
       "    <tr>\n",
       "      <th>Titanic</th>\n",
       "      <td><img src='http://image.tmdb.org/t/p/w185//9xjZS2rlVxm8SFx8kPC3aIGCOYQ.jpg' style='height:100px;'></td>\n",
       "      <td>1645.034188</td>\n",
       "    </tr>\n",
       "    <tr>\n",
       "      <th>Jurassic World</th>\n",
       "      <td><img src='http://image.tmdb.org/t/p/w185//rhr4y79GpxQF9IsfJItRXVaoGs4.jpg' style='height:100px;'></td>\n",
       "      <td>1363.528810</td>\n",
       "    </tr>\n",
       "    <tr>\n",
       "      <th>Furious 7</th>\n",
       "      <td><img src='http://image.tmdb.org/t/p/w185//d9jZ2bKZw3ptTuxAyVHA6olPAVs.jpg' style='height:100px;'></td>\n",
       "      <td>1316.249360</td>\n",
       "    </tr>\n",
       "  </tbody>\n",
       "</table>"
      ],
      "text/plain": [
       "<IPython.core.display.HTML object>"
      ]
     },
     "execution_count": 496,
     "metadata": {},
     "output_type": "execute_result"
    }
   ],
   "source": [
    "#__Movies Top 5 - Highest Profit__\n",
    "Top_5_movie_highest_Profit=filter_data('profit',5,False)\n",
    "Top_5_movie_highest_Profit"
   ]
  },
  {
   "cell_type": "code",
   "execution_count": 497,
   "id": "da3d0ebd",
   "metadata": {},
   "outputs": [
    {
     "data": {
      "text/html": [
       "<table border=\"1\" class=\"dataframe\">\n",
       "  <thead>\n",
       "    <tr style=\"text-align: right;\">\n",
       "      <th></th>\n",
       "      <th>poster_path</th>\n",
       "      <th>profit</th>\n",
       "    </tr>\n",
       "    <tr>\n",
       "      <th>title</th>\n",
       "      <th></th>\n",
       "      <th></th>\n",
       "    </tr>\n",
       "  </thead>\n",
       "  <tbody>\n",
       "    <tr>\n",
       "      <th>The Lone Ranger</th>\n",
       "      <td><img src='http://image.tmdb.org/t/p/w185//b2je2ZybNIzAOL1K1WPbbT6zt2M.jpg' style='height:100px;'></td>\n",
       "      <td>-165.710090</td>\n",
       "    </tr>\n",
       "    <tr>\n",
       "      <th>The Alamo</th>\n",
       "      <td><img src='http://image.tmdb.org/t/p/w185//aZrWYkxCCwSPKp4VjVvn46uHbIX.jpg' style='height:100px;'></td>\n",
       "      <td>-119.180039</td>\n",
       "    </tr>\n",
       "    <tr>\n",
       "      <th>Mars Needs Moms</th>\n",
       "      <td><img src='http://image.tmdb.org/t/p/w185//lOKqLd0ud1wdwaPK5h6bGNZIVLT.jpg' style='height:100px;'></td>\n",
       "      <td>-111.007242</td>\n",
       "    </tr>\n",
       "    <tr>\n",
       "      <th>Valerian and the City of a Thousand Planets</th>\n",
       "      <td><img src='http://image.tmdb.org/t/p/w185//jfIpMh79fGRqYJ6PwZLCntzgxlF.jpg' style='height:100px;'></td>\n",
       "      <td>-107.447384</td>\n",
       "    </tr>\n",
       "    <tr>\n",
       "      <th>The 13th Warrior</th>\n",
       "      <td><img src='http://image.tmdb.org/t/p/w185//7pyhR5K1iv67daYw0DfsmsersKA.jpg' style='height:100px;'></td>\n",
       "      <td>-98.301101</td>\n",
       "    </tr>\n",
       "  </tbody>\n",
       "</table>"
      ],
      "text/plain": [
       "<IPython.core.display.HTML object>"
      ]
     },
     "execution_count": 497,
     "metadata": {},
     "output_type": "execute_result"
    }
   ],
   "source": [
    "#__Movies Top 5 - Lowest Profit__\n",
    "Top_5_movie_Lowest_Profit=filter_data('profit',5,True)\n",
    "Top_5_movie_Lowest_Profit"
   ]
  },
  {
   "cell_type": "code",
   "execution_count": 498,
   "id": "475dd619",
   "metadata": {},
   "outputs": [
    {
     "data": {
      "text/html": [
       "<table border=\"1\" class=\"dataframe\">\n",
       "  <thead>\n",
       "    <tr style=\"text-align: right;\">\n",
       "      <th></th>\n",
       "      <th>poster_path</th>\n",
       "      <th>ROI</th>\n",
       "    </tr>\n",
       "    <tr>\n",
       "      <th>title</th>\n",
       "      <th></th>\n",
       "      <th></th>\n",
       "    </tr>\n",
       "  </thead>\n",
       "  <tbody>\n",
       "    <tr>\n",
       "      <th>E.T. the Extra-Terrestrial</th>\n",
       "      <td><img src='http://image.tmdb.org/t/p/w185//cBfkE3HSH1NOyy1ftxlPw2l3ukb.jpg' style='height:100px;'></td>\n",
       "      <td>7552.050724</td>\n",
       "    </tr>\n",
       "    <tr>\n",
       "      <th>Star Wars</th>\n",
       "      <td><img src='http://image.tmdb.org/t/p/w185//6FfCtAuVAW8XJjZ7eWeLibRLWTw.jpg' style='height:100px;'></td>\n",
       "      <td>7049.072791</td>\n",
       "    </tr>\n",
       "    <tr>\n",
       "      <th>Pretty Woman</th>\n",
       "      <td><img src='http://image.tmdb.org/t/p/w185//hMVMMy1yDUvdufpTl8J8KKNYaZX.jpg' style='height:100px;'></td>\n",
       "      <td>3307.142857</td>\n",
       "    </tr>\n",
       "    <tr>\n",
       "      <th>The Intouchables</th>\n",
       "      <td><img src='http://image.tmdb.org/t/p/w185//w7WxNbb0mcWpwDMd3pJA7LQRfnt.jpg' style='height:100px;'></td>\n",
       "      <td>3280.622085</td>\n",
       "    </tr>\n",
       "    <tr>\n",
       "      <th>The Empire Strikes Back</th>\n",
       "      <td><img src='http://image.tmdb.org/t/p/w185//7BuH8itoSrLExs2YZSsM01Qk2no.jpg' style='height:100px;'></td>\n",
       "      <td>2991.111111</td>\n",
       "    </tr>\n",
       "  </tbody>\n",
       "</table>"
      ],
      "text/plain": [
       "<IPython.core.display.HTML object>"
      ]
     },
     "execution_count": 498,
     "metadata": {},
     "output_type": "execute_result"
    }
   ],
   "source": [
    "#__Movies Top 5 - Highest ROI__\n",
    "#Highest Return on Investment (=Revenue / Budget) (only movies with Budget >= 10)\n",
    "Top_5_movie_Highest_ROI=filter_data('ROI',5,False,10)\n",
    "Top_5_movie_Highest_ROI"
   ]
  },
  {
   "cell_type": "code",
   "execution_count": 499,
   "id": "349e7eef",
   "metadata": {},
   "outputs": [
    {
     "data": {
      "text/html": [
       "<table border=\"1\" class=\"dataframe\">\n",
       "  <thead>\n",
       "    <tr style=\"text-align: right;\">\n",
       "      <th></th>\n",
       "      <th>poster_path</th>\n",
       "      <th>ROI</th>\n",
       "    </tr>\n",
       "    <tr>\n",
       "      <th>title</th>\n",
       "      <th></th>\n",
       "      <th></th>\n",
       "    </tr>\n",
       "  </thead>\n",
       "  <tbody>\n",
       "    <tr>\n",
       "      <th>Chasing Liberty</th>\n",
       "      <td><img src='http://image.tmdb.org/t/p/w185//7qzvS9QKkiDcz1K8EY9Y6ZXkUeD.jpg' style='height:100px;'></td>\n",
       "      <td>0.000052</td>\n",
       "    </tr>\n",
       "    <tr>\n",
       "      <th>The Cookout</th>\n",
       "      <td><img src='http://image.tmdb.org/t/p/w185//eUVEPES8KhnXbTG3G74UZfVQRb7.jpg' style='height:100px;'></td>\n",
       "      <td>0.000075</td>\n",
       "    </tr>\n",
       "    <tr>\n",
       "      <th>Deadfall</th>\n",
       "      <td><img src='http://image.tmdb.org/t/p/w185//kgfvIzCG9PYjYfEtcIPuJpGiY9m.jpg' style='height:100px;'></td>\n",
       "      <td>0.000180</td>\n",
       "    </tr>\n",
       "    <tr>\n",
       "      <th>In the Cut</th>\n",
       "      <td><img src='http://image.tmdb.org/t/p/w185//lcorM51zECU9prrVCvhvpxfkPhb.jpg' style='height:100px;'></td>\n",
       "      <td>0.000192</td>\n",
       "    </tr>\n",
       "    <tr>\n",
       "      <th>The Samaritan</th>\n",
       "      <td><img src='http://image.tmdb.org/t/p/w185//zSwCwoi2dQmWcwYT0ea9zH6OXN9.jpg' style='height:100px;'></td>\n",
       "      <td>0.021008</td>\n",
       "    </tr>\n",
       "  </tbody>\n",
       "</table>"
      ],
      "text/plain": [
       "<IPython.core.display.HTML object>"
      ]
     },
     "execution_count": 499,
     "metadata": {},
     "output_type": "execute_result"
    }
   ],
   "source": [
    "#Lowest Return on Investment (=Revenue / Budget) (only movies with Budget >= 10)\n",
    "#__Movies Top 5 - Lowest ROI__\n",
    "Top_5_movie_Lowest_ROI=filter_data('ROI',5,True,10)\n",
    "Top_5_movie_Lowest_ROI"
   ]
  },
  {
   "cell_type": "code",
   "execution_count": 500,
   "id": "94f4b300",
   "metadata": {},
   "outputs": [
    {
     "data": {
      "text/html": [
       "<table border=\"1\" class=\"dataframe\">\n",
       "  <thead>\n",
       "    <tr style=\"text-align: right;\">\n",
       "      <th></th>\n",
       "      <th>poster_path</th>\n",
       "      <th>vote_count</th>\n",
       "    </tr>\n",
       "    <tr>\n",
       "      <th>title</th>\n",
       "      <th></th>\n",
       "      <th></th>\n",
       "    </tr>\n",
       "  </thead>\n",
       "  <tbody>\n",
       "    <tr>\n",
       "      <th>Inception</th>\n",
       "      <td><img src='http://image.tmdb.org/t/p/w185//9gk7adHYeDvHkCSEqAvQNLV5Uge.jpg' style='height:100px;'></td>\n",
       "      <td>14075.0</td>\n",
       "    </tr>\n",
       "    <tr>\n",
       "      <th>The Dark Knight</th>\n",
       "      <td><img src='http://image.tmdb.org/t/p/w185//qJ2tW6WMUDux911r6m7haRef0WH.jpg' style='height:100px;'></td>\n",
       "      <td>12269.0</td>\n",
       "    </tr>\n",
       "    <tr>\n",
       "      <th>Avatar</th>\n",
       "      <td><img src='http://image.tmdb.org/t/p/w185//btnl50ZDJDSCal2NLQIYWw0XxvH.jpg' style='height:100px;'></td>\n",
       "      <td>12114.0</td>\n",
       "    </tr>\n",
       "    <tr>\n",
       "      <th>The Avengers</th>\n",
       "      <td><img src='http://image.tmdb.org/t/p/w185//RYMX2wcKCBAr24UyPD7xwmjaTn.jpg' style='height:100px;'></td>\n",
       "      <td>12000.0</td>\n",
       "    </tr>\n",
       "    <tr>\n",
       "      <th>Deadpool</th>\n",
       "      <td><img src='http://image.tmdb.org/t/p/w185//fSRb7vyIP8rQpL0I47P3qUsEKX3.jpg' style='height:100px;'></td>\n",
       "      <td>11444.0</td>\n",
       "    </tr>\n",
       "  </tbody>\n",
       "</table>"
      ],
      "text/plain": [
       "<IPython.core.display.HTML object>"
      ]
     },
     "execution_count": 500,
     "metadata": {},
     "output_type": "execute_result"
    }
   ],
   "source": [
    "#__Movies Top 5 - Most Votes__\n",
    "#Lowest Rating (only movies with 10 or more Ratings)\n",
    "Top_5_movie_Most_Votes=filter_data('vote_count',5,False)\n",
    "Top_5_movie_Most_Votes"
   ]
  },
  {
   "cell_type": "code",
   "execution_count": 501,
   "id": "109c69c5",
   "metadata": {},
   "outputs": [
    {
     "data": {
      "text/html": [
       "<table border=\"1\" class=\"dataframe\">\n",
       "  <thead>\n",
       "    <tr style=\"text-align: right;\">\n",
       "      <th></th>\n",
       "      <th>poster_path</th>\n",
       "      <th>vote_average</th>\n",
       "    </tr>\n",
       "    <tr>\n",
       "      <th>title</th>\n",
       "      <th></th>\n",
       "      <th></th>\n",
       "    </tr>\n",
       "  </thead>\n",
       "  <tbody>\n",
       "    <tr>\n",
       "      <th>Time Pass</th>\n",
       "      <td><img src='http://image.tmdb.org/t/p/w185//eZXI0Od5sZXu1AhOSm4DhivbxkB.jpg' style='height:100px;'></td>\n",
       "      <td>10.0</td>\n",
       "    </tr>\n",
       "    <tr>\n",
       "      <th>Shuttlecock Boys</th>\n",
       "      <td><img src='http://image.tmdb.org/t/p/w185//6anA57vPp9vU2nCGSHgaqGmWIzR.jpg' style='height:100px;'></td>\n",
       "      <td>10.0</td>\n",
       "    </tr>\n",
       "    <tr>\n",
       "      <th>Forever</th>\n",
       "      <td><img src='http://image.tmdb.org/t/p/w185//lRdh2UqLGcSUDNR53pi5MjjIHk1.jpg' style='height:100px;'></td>\n",
       "      <td>10.0</td>\n",
       "    </tr>\n",
       "    <tr>\n",
       "      <th>Souls of Zen: Ancestors and Agency in Contemporary Japanese Temple Buddhism</th>\n",
       "      <td><img src='http://image.tmdb.org/t/p/w185//rS8N0od43nCXmXJfUEV8MuFs3NL.jpg' style='height:100px;'></td>\n",
       "      <td>10.0</td>\n",
       "    </tr>\n",
       "    <tr>\n",
       "      <th>Elaine Stritch: At Liberty</th>\n",
       "      <td><img src='http://image.tmdb.org/t/p/w185//9uoucM9yfmAYICtNMRHYxCVoWCO.jpg' style='height:100px;'></td>\n",
       "      <td>10.0</td>\n",
       "    </tr>\n",
       "  </tbody>\n",
       "</table>"
      ],
      "text/plain": [
       "<IPython.core.display.HTML object>"
      ]
     },
     "execution_count": 501,
     "metadata": {},
     "output_type": "execute_result"
    }
   ],
   "source": [
    "#__Movies Top 5 - Highest Rating__\n",
    "#Highest Rating (only movies with 10 or more Ratings)\n",
    "Top_5_movie_Highest_Rating=filter_data('vote_average',5,False,minRating=0)\n",
    "Top_5_movie_Highest_Rating\n"
   ]
  },
  {
   "cell_type": "code",
   "execution_count": 502,
   "id": "4f9145f7",
   "metadata": {},
   "outputs": [
    {
     "data": {
      "text/html": [
       "<table border=\"1\" class=\"dataframe\">\n",
       "  <thead>\n",
       "    <tr style=\"text-align: right;\">\n",
       "      <th></th>\n",
       "      <th>poster_path</th>\n",
       "      <th>vote_average</th>\n",
       "    </tr>\n",
       "    <tr>\n",
       "      <th>title</th>\n",
       "      <th></th>\n",
       "      <th></th>\n",
       "    </tr>\n",
       "  </thead>\n",
       "  <tbody>\n",
       "    <tr>\n",
       "      <th>Extinction: Nature Has Evolved</th>\n",
       "      <td><img src='http://image.tmdb.org/t/p/w185//13LTZkxrAkswx2eidHK06XbVH8n.jpg' style='height:100px;'></td>\n",
       "      <td>0.0</td>\n",
       "    </tr>\n",
       "    <tr>\n",
       "      <th>Roukli</th>\n",
       "      <td><img src='http://image.tmdb.org/t/p/w185//tU0tvF3UWRrcrf6cUdbNadANvLy.jpg' style='height:100px;'></td>\n",
       "      <td>0.0</td>\n",
       "    </tr>\n",
       "    <tr>\n",
       "      <th>Joe and Max</th>\n",
       "      <td><img src='http://image.tmdb.org/t/p/w185//1VerTaAVt8zdU0IqTLWJLO0ZwIo.jpg' style='height:100px;'></td>\n",
       "      <td>0.0</td>\n",
       "    </tr>\n",
       "    <tr>\n",
       "      <th>Call Me by Your Name</th>\n",
       "      <td><img src='http://image.tmdb.org/t/p/w185//tcNniniS4rfqrLH0oORikJfnIwY.jpg' style='height:100px;'></td>\n",
       "      <td>0.0</td>\n",
       "    </tr>\n",
       "    <tr>\n",
       "      <th>Unrated II: Scary as Hell</th>\n",
       "      <td><img src='http://image.tmdb.org/t/p/w185//l8NyL5MFzayw6gaZCsJYZkNASdk.jpg' style='height:100px;'></td>\n",
       "      <td>0.5</td>\n",
       "    </tr>\n",
       "  </tbody>\n",
       "</table>"
      ],
      "text/plain": [
       "<IPython.core.display.HTML object>"
      ]
     },
     "execution_count": 502,
     "metadata": {},
     "output_type": "execute_result"
    }
   ],
   "source": [
    "#Lowest Rating (only movies with 10 or more Ratings)\n",
    "Top_5_movie_Lowest_Rating=filter_data('vote_average',5,True,minRating=0)\n",
    "Top_5_movie_Lowest_Rating\n"
   ]
  },
  {
   "cell_type": "code",
   "execution_count": 503,
   "id": "fe580ad5",
   "metadata": {},
   "outputs": [
    {
     "data": {
      "text/html": [
       "<table border=\"1\" class=\"dataframe\">\n",
       "  <thead>\n",
       "    <tr style=\"text-align: right;\">\n",
       "      <th></th>\n",
       "      <th>poster_path</th>\n",
       "      <th>popularity</th>\n",
       "    </tr>\n",
       "    <tr>\n",
       "      <th>title</th>\n",
       "      <th></th>\n",
       "      <th></th>\n",
       "    </tr>\n",
       "  </thead>\n",
       "  <tbody>\n",
       "    <tr>\n",
       "      <th>Minions</th>\n",
       "      <td><img src='http://image.tmdb.org/t/p/w185//tMaGZ2HR8HAFwkx4YRib0CDVfNT.jpg' style='height:100px;'></td>\n",
       "      <td>547.488298</td>\n",
       "    </tr>\n",
       "    <tr>\n",
       "      <th>Wonder Woman</th>\n",
       "      <td><img src='http://image.tmdb.org/t/p/w185//gfJGlDaHuWimErCr5Ql0I8x9QSy.jpg' style='height:100px;'></td>\n",
       "      <td>294.337037</td>\n",
       "    </tr>\n",
       "    <tr>\n",
       "      <th>Beauty and the Beast</th>\n",
       "      <td><img src='http://image.tmdb.org/t/p/w185//tWqifoYuwLETmmasnGHO7xBjEtt.jpg' style='height:100px;'></td>\n",
       "      <td>287.253654</td>\n",
       "    </tr>\n",
       "    <tr>\n",
       "      <th>Baby Driver</th>\n",
       "      <td><img src='http://image.tmdb.org/t/p/w185//rmnQ9jKW72bHu8uKlMjPIb2VLMI.jpg' style='height:100px;'></td>\n",
       "      <td>228.032744</td>\n",
       "    </tr>\n",
       "    <tr>\n",
       "      <th>Big Hero 6</th>\n",
       "      <td><img src='http://image.tmdb.org/t/p/w185//xozrGME58olN1xBhtxmjpOoY0jH.jpg' style='height:100px;'></td>\n",
       "      <td>213.849907</td>\n",
       "    </tr>\n",
       "  </tbody>\n",
       "</table>"
      ],
      "text/plain": [
       "<IPython.core.display.HTML object>"
      ]
     },
     "execution_count": 503,
     "metadata": {},
     "output_type": "execute_result"
    }
   ],
   "source": [
    "#__Movies Top 5 - Most Popular__\n",
    "Top_5_movie_Most_Popular=filter_data('popularity',5,False)\n",
    "Top_5_movie_Most_Popular"
   ]
  },
  {
   "cell_type": "markdown",
   "id": "4c863478",
   "metadata": {},
   "source": [
    "# Find your next Movie"
   ]
  },
  {
   "cell_type": "code",
   "execution_count": 504,
   "id": "527edcb0",
   "metadata": {},
   "outputs": [],
   "source": [
    "#__Search 1: Science Fiction Action Movie with Bruce Willis (sorted from high to low Rating)__"
   ]
  },
  {
   "cell_type": "code",
   "execution_count": 505,
   "id": "a7c28262",
   "metadata": {},
   "outputs": [
    {
     "data": {
      "text/html": [
       "<table border=\"1\" class=\"dataframe\">\n",
       "  <thead>\n",
       "    <tr style=\"text-align: right;\">\n",
       "      <th></th>\n",
       "      <th>title</th>\n",
       "      <th>vote_average</th>\n",
       "      <th>poster_path</th>\n",
       "    </tr>\n",
       "  </thead>\n",
       "  <tbody>\n",
       "    <tr>\n",
       "      <th>291</th>\n",
       "      <td>Pulp Fiction</td>\n",
       "      <td>8.3</td>\n",
       "      <td><img src='http://image.tmdb.org/t/p/w185//d5iIlFn5s0ImszYzBPb8JPIfbXD.jpg' style='height:100px;'></td>\n",
       "    </tr>\n",
       "    <tr>\n",
       "      <th>2620</th>\n",
       "      <td>The Sixth Sense</td>\n",
       "      <td>7.7</td>\n",
       "      <td><img src='http://image.tmdb.org/t/p/w185//fIssD3w3SvIhPPmVo4WMgZDVLID.jpg' style='height:100px;'></td>\n",
       "    </tr>\n",
       "    <tr>\n",
       "      <th>18846</th>\n",
       "      <td>Moonrise Kingdom</td>\n",
       "      <td>7.6</td>\n",
       "      <td><img src='http://image.tmdb.org/t/p/w185//wOgmhrSUwOuZJsQXf2GsI923N0f.jpg' style='height:100px;'></td>\n",
       "    </tr>\n",
       "    <tr>\n",
       "      <th>35664</th>\n",
       "      <td>B.B. King: The Life of Riley</td>\n",
       "      <td>7.5</td>\n",
       "      <td><img src='http://image.tmdb.org/t/p/w185//mUylDxl5mx5glgBdbp7mY7aXNtU.jpg' style='height:100px;'></td>\n",
       "    </tr>\n",
       "    <tr>\n",
       "      <th>998</th>\n",
       "      <td>Die Hard</td>\n",
       "      <td>7.5</td>\n",
       "      <td><img src='http://image.tmdb.org/t/p/w185//aJCpHDC6RoGz7d1Fzayl019xnxX.jpg' style='height:100px;'></td>\n",
       "    </tr>\n",
       "  </tbody>\n",
       "</table>"
      ],
      "text/plain": [
       "<IPython.core.display.HTML object>"
      ]
     },
     "execution_count": 505,
     "metadata": {},
     "output_type": "execute_result"
    }
   ],
   "source": [
    "Gn=Data[Data['genres'].str.contains(\"Action\") & Data['genres'].str.contains(\"Science Fiction\")]\n",
    "Ac=Data['cast'].str.contains('Bruce Willis')\n",
    "sub=Data.loc[(Ac & str(Gn)), [\"title\", \"vote_average\",'poster_path']].sort_values(by = \"vote_average\",ascending = False).head(5)\n",
    "HTML(sub.to_html(escape=False))"
   ]
  },
  {
   "cell_type": "code",
   "execution_count": 506,
   "id": "886de634",
   "metadata": {},
   "outputs": [],
   "source": [
    "#__Search 2: Movies with Uma Thurman and directed by Quentin Tarantino (low runtime)__"
   ]
  },
  {
   "cell_type": "code",
   "execution_count": 507,
   "id": "a15bfcb6",
   "metadata": {},
   "outputs": [
    {
     "data": {
      "text/html": [
       "<table border=\"1\" class=\"dataframe\">\n",
       "  <thead>\n",
       "    <tr style=\"text-align: right;\">\n",
       "      <th></th>\n",
       "      <th>title</th>\n",
       "      <th>release_date</th>\n",
       "      <th>runtime</th>\n",
       "      <th>poster_path</th>\n",
       "    </tr>\n",
       "  </thead>\n",
       "  <tbody>\n",
       "    <tr>\n",
       "      <th>6667</th>\n",
       "      <td>Kill Bill: Vol. 1</td>\n",
       "      <td>2003-10-10</td>\n",
       "      <td>111.0</td>\n",
       "      <td><img src='http://image.tmdb.org/t/p/w185//v7TaX8kXMXs5yFFGR41guUDNcnB.jpg' style='height:100px;'></td>\n",
       "    </tr>\n",
       "    <tr>\n",
       "      <th>7208</th>\n",
       "      <td>Kill Bill: Vol. 2</td>\n",
       "      <td>2004-04-16</td>\n",
       "      <td>136.0</td>\n",
       "      <td><img src='http://image.tmdb.org/t/p/w185//2yhg0mZQMhDyvUQ4rG1IZ4oIA8L.jpg' style='height:100px;'></td>\n",
       "    </tr>\n",
       "    <tr>\n",
       "      <th>291</th>\n",
       "      <td>Pulp Fiction</td>\n",
       "      <td>1994-09-10</td>\n",
       "      <td>154.0</td>\n",
       "      <td><img src='http://image.tmdb.org/t/p/w185//d5iIlFn5s0ImszYzBPb8JPIfbXD.jpg' style='height:100px;'></td>\n",
       "    </tr>\n",
       "  </tbody>\n",
       "</table>"
      ],
      "text/plain": [
       "<IPython.core.display.HTML object>"
      ]
     },
     "execution_count": 507,
     "metadata": {},
     "output_type": "execute_result"
    }
   ],
   "source": [
    "sub=Data[(Data['cast'].str.contains('Uma Thurman')) & (Data['director']=='Quentin Tarantino')].sort_values(by='runtime',ascending=True)\n",
    "sub=sub[['title','release_date','runtime','poster_path']]\n",
    "HTML(sub.to_html(escape=False))"
   ]
  },
  {
   "cell_type": "code",
   "execution_count": 508,
   "id": "9eebb34d",
   "metadata": {},
   "outputs": [],
   "source": [
    "#__Search 3: Most Successful Pixar Studio Movies between 2010 and 2015 (high Revenue)__"
   ]
  },
  {
   "cell_type": "code",
   "execution_count": 509,
   "id": "4a4496a1",
   "metadata": {},
   "outputs": [],
   "source": [
    "sub=Data[Data['production_companies']==('Pixar Animation Studios')].sort_values(by='revenue_musd',ascending=False)"
   ]
  },
  {
   "cell_type": "code",
   "execution_count": 510,
   "id": "1eb7accc",
   "metadata": {},
   "outputs": [
    {
     "data": {
      "text/html": [
       "<table border=\"1\" class=\"dataframe\">\n",
       "  <thead>\n",
       "    <tr style=\"text-align: right;\">\n",
       "      <th></th>\n",
       "      <th>title</th>\n",
       "      <th>production_companies</th>\n",
       "      <th>poster_path</th>\n",
       "    </tr>\n",
       "  </thead>\n",
       "  <tbody>\n",
       "    <tr>\n",
       "      <th>21694</th>\n",
       "      <td>The Blue Umbrella</td>\n",
       "      <td>Pixar Animation Studios</td>\n",
       "      <td><img src='http://image.tmdb.org/t/p/w185//iSWV7ra8HJ3gYnZFMMrPe8CBbrv.jpg' style='height:100px;'></td>\n",
       "    </tr>\n",
       "    <tr>\n",
       "      <th>22489</th>\n",
       "      <td>La luna</td>\n",
       "      <td>Pixar Animation Studios</td>\n",
       "      <td><img src='http://image.tmdb.org/t/p/w185//iS6DB1hIRJHQPs9wWXvIzdnp7oD.jpg' style='height:100px;'></td>\n",
       "    </tr>\n",
       "    <tr>\n",
       "      <th>24252</th>\n",
       "      <td>Hawaiian Vacation</td>\n",
       "      <td>Pixar Animation Studios</td>\n",
       "      <td><img src='http://image.tmdb.org/t/p/w185//tByW10AkjWG0DtZwN2E2trT88DD.jpg' style='height:100px;'></td>\n",
       "    </tr>\n",
       "    <tr>\n",
       "      <th>24254</th>\n",
       "      <td>Small Fry</td>\n",
       "      <td>Pixar Animation Studios</td>\n",
       "      <td><img src='http://image.tmdb.org/t/p/w185//z096FtMoUZxf9kqzSj39YE6psuD.jpg' style='height:100px;'></td>\n",
       "    </tr>\n",
       "    <tr>\n",
       "      <th>25516</th>\n",
       "      <td>The Legend of Mor'du</td>\n",
       "      <td>Pixar Animation Studios</td>\n",
       "      <td><img src='http://image.tmdb.org/t/p/w185//8FKR6880g0JRiblbTQEijGlq3Qj.jpg' style='height:100px;'></td>\n",
       "    </tr>\n",
       "  </tbody>\n",
       "</table>"
      ],
      "text/plain": [
       "<IPython.core.display.HTML object>"
      ]
     },
     "execution_count": 510,
     "metadata": {},
     "output_type": "execute_result"
    }
   ],
   "source": [
    "sub=sub[sub['release_date'].between(\"2010-01-01\", \"2015-12-31\")][['title','production_companies','poster_path']].head(5)\n",
    "HTML(sub.to_html(escape=False))"
   ]
  },
  {
   "cell_type": "code",
   "execution_count": 511,
   "id": "1dc70ac9",
   "metadata": {},
   "outputs": [],
   "source": [
    "#__Search 4: Action or \n",
    "#Thriller Movie with original language English and minimum Rating of 7.5 (most recent)__"
   ]
  },
  {
   "cell_type": "code",
   "execution_count": 512,
   "id": "f4745192",
   "metadata": {},
   "outputs": [
    {
     "data": {
      "text/html": [
       "<table border=\"1\" class=\"dataframe\">\n",
       "  <thead>\n",
       "    <tr style=\"text-align: right;\">\n",
       "      <th></th>\n",
       "      <th>genres</th>\n",
       "      <th>poster_path</th>\n",
       "      <th>vote_average</th>\n",
       "      <th>release_date</th>\n",
       "    </tr>\n",
       "    <tr>\n",
       "      <th>title</th>\n",
       "      <th></th>\n",
       "      <th></th>\n",
       "      <th></th>\n",
       "      <th></th>\n",
       "    </tr>\n",
       "  </thead>\n",
       "  <tbody>\n",
       "    <tr>\n",
       "      <th>The Dark Knight Rises</th>\n",
       "      <td>Action|Crime|Drama|Thriller</td>\n",
       "      <td><img src='http://image.tmdb.org/t/p/w185//vzvKcPQ4o7TjWeGIn0aGC9FeVNu.jpg' style='height:100px;'></td>\n",
       "      <td>7.6</td>\n",
       "      <td>2012-07-16</td>\n",
       "    </tr>\n",
       "    <tr>\n",
       "      <th>Ghost Recon: Alpha</th>\n",
       "      <td>Action|Science Fiction|Thriller|War</td>\n",
       "      <td><img src='http://image.tmdb.org/t/p/w185//iCEFcdAYHJFZLJolJcuWbH5xGhn.jpg' style='height:100px;'></td>\n",
       "      <td>7.5</td>\n",
       "      <td>2012-05-03</td>\n",
       "    </tr>\n",
       "    <tr>\n",
       "      <th>Oxy-Morons</th>\n",
       "      <td>Action|Thriller</td>\n",
       "      <td><img src='http://image.tmdb.org/t/p/w185//5zXfgVtU3LFd9G2AyhTLACBZu2W.jpg' style='height:100px;'></td>\n",
       "      <td>8.0</td>\n",
       "      <td>2011-10-02</td>\n",
       "    </tr>\n",
       "    <tr>\n",
       "      <th>Inception</th>\n",
       "      <td>Action|Thriller|Science Fiction|Mystery|Adventure</td>\n",
       "      <td><img src='http://image.tmdb.org/t/p/w185//9gk7adHYeDvHkCSEqAvQNLV5Uge.jpg' style='height:100px;'></td>\n",
       "      <td>8.1</td>\n",
       "      <td>2010-07-14</td>\n",
       "    </tr>\n",
       "    <tr>\n",
       "      <th>Prison Break: The Final Break</th>\n",
       "      <td>Action|Drama|Thriller</td>\n",
       "      <td><img src='http://image.tmdb.org/t/p/w185//h1QRyGuWVXM4Cr3FyPISSjMCBkA.jpg' style='height:100px;'></td>\n",
       "      <td>7.5</td>\n",
       "      <td>2009-05-26</td>\n",
       "    </tr>\n",
       "  </tbody>\n",
       "</table>"
      ],
      "text/plain": [
       "<IPython.core.display.HTML object>"
      ]
     },
     "execution_count": 512,
     "metadata": {},
     "output_type": "execute_result"
    }
   ],
   "source": [
    "sub=Data[Data['genres'].str.contains('Action') & Data['genres'].str.contains('Thriller')]\n",
    "sub=sub[(sub['spoken_languages']==('English'))& (sub['vote_average']>=7.5)][['title','genres','poster_path','vote_average','release_date']].set_index('title').sort_values('release_date',ascending=False).head(5)\n",
    "HTML(sub.to_html(escape=False))"
   ]
  },
  {
   "cell_type": "raw",
   "id": "b5b3cc3a",
   "metadata": {},
   "source": [
    "Data.head(2)"
   ]
  },
  {
   "cell_type": "code",
   "execution_count": null,
   "id": "6d87c169",
   "metadata": {},
   "outputs": [],
   "source": []
  },
  {
   "cell_type": "code",
   "execution_count": 513,
   "id": "8177bdb8",
   "metadata": {},
   "outputs": [],
   "source": [
    "#4. __Analyze__ the Dataset and __find out whether Franchises \n",
    "#(Movies that belong to a # collection)are more successful \n",
    "#than stand-alone movies__ in terms of:"
   ]
  },
  {
   "cell_type": "markdown",
   "id": "e08ddb8c",
   "metadata": {},
   "source": [
    "- mean revenue\n",
    "- median Return on Investment\n",
    "- mean budget raised\n",
    "- mean popularity\n",
    "- mean rating"
   ]
  },
  {
   "cell_type": "code",
   "execution_count": 514,
   "id": "7ef58e85",
   "metadata": {},
   "outputs": [],
   "source": [
    "Data['Franchise']=Data['belongs_to_collection'].notna()"
   ]
  },
  {
   "cell_type": "code",
   "execution_count": 515,
   "id": "f0d71fba",
   "metadata": {},
   "outputs": [],
   "source": [
    "#__Franchise vs. Stand-alone: Average Revenue__"
   ]
  },
  {
   "cell_type": "code",
   "execution_count": 516,
   "id": "61bd31f5",
   "metadata": {},
   "outputs": [
    {
     "data": {
      "text/plain": [
       "Franchise\n",
       "True     165.708193\n",
       "False     44.742814\n",
       "Name: revenue_musd, dtype: float64"
      ]
     },
     "execution_count": 516,
     "metadata": {},
     "output_type": "execute_result"
    }
   ],
   "source": [
    "Data.groupby(Data['Franchise'])['revenue_musd'].mean().sort_values(ascending=False).head(5)"
   ]
  },
  {
   "cell_type": "code",
   "execution_count": 517,
   "id": "2c0521f3",
   "metadata": {},
   "outputs": [],
   "source": [
    "#__Franchise vs. Stand-alone: Return on Investment / Profitability__"
   ]
  },
  {
   "cell_type": "code",
   "execution_count": 518,
   "id": "cb36ff33",
   "metadata": {},
   "outputs": [
    {
     "data": {
      "text/plain": [
       "Franchise\n",
       "True     370.919508\n",
       "False    161.969933\n",
       "Name: ROI, dtype: float64"
      ]
     },
     "execution_count": 518,
     "metadata": {},
     "output_type": "execute_result"
    }
   ],
   "source": [
    "Data.groupby(Data['Franchise'])['ROI'].median().sort_values(ascending=False).head(5)"
   ]
  },
  {
   "cell_type": "code",
   "execution_count": 519,
   "id": "eff55ab6",
   "metadata": {},
   "outputs": [
    {
     "data": {
      "text/plain": [
       "Franchise\n",
       "True     38.319847\n",
       "False    18.047741\n",
       "Name: budget_musd, dtype: float64"
      ]
     },
     "execution_count": 519,
     "metadata": {},
     "output_type": "execute_result"
    }
   ],
   "source": [
    "#__Franchise vs. Stand-alone: Average Budget__\n",
    "Data.groupby(Data['Franchise'])['budget_musd'].mean().sort_values(ascending=False).head(5)"
   ]
  },
  {
   "cell_type": "code",
   "execution_count": 520,
   "id": "73751486",
   "metadata": {},
   "outputs": [
    {
     "data": {
      "text/plain": [
       "Franchise\n",
       "True     6.245051\n",
       "False    2.592726\n",
       "Name: popularity, dtype: float64"
      ]
     },
     "execution_count": 520,
     "metadata": {},
     "output_type": "execute_result"
    }
   ],
   "source": [
    "#__Franchise vs. Stand-alone: Average Popularity__\n",
    "Data.groupby(Data['Franchise'])['popularity'].mean().sort_values(ascending=False).head(5)"
   ]
  },
  {
   "cell_type": "code",
   "execution_count": 521,
   "id": "3678f3a4",
   "metadata": {},
   "outputs": [
    {
     "data": {
      "text/plain": [
       "Franchise\n",
       "False    6.008787\n",
       "True     5.956806\n",
       "Name: vote_average, dtype: float64"
      ]
     },
     "execution_count": 521,
     "metadata": {},
     "output_type": "execute_result"
    }
   ],
   "source": [
    "#__Franchise vs. Stand-alone: Average Rating__\n",
    "Data.groupby(Data['Franchise'])['vote_average'].mean().sort_values(ascending=False).head(5)"
   ]
  },
  {
   "cell_type": "markdown",
   "id": "561a9761",
   "metadata": {},
   "source": [
    "# Most Successful Franchises"
   ]
  },
  {
   "cell_type": "markdown",
   "id": "705fc883",
   "metadata": {},
   "source": [
    "5. __Find__ the __most successful Franchises__ in terms of\n",
    "- __total number of movies__\n",
    "- __total & mean budget__\n",
    "- __total & mean revenue__\n",
    "- __mean rating__"
   ]
  },
  {
   "cell_type": "code",
   "execution_count": 522,
   "id": "a4cbefe9",
   "metadata": {},
   "outputs": [],
   "source": [
    "Fr=Data.groupby(Data['belongs_to_collection']).agg({'title':\"count\",'budget_musd':['sum','mean'],'revenue_musd':['sum','mean'],'vote_average':'mean'})"
   ]
  },
  {
   "cell_type": "code",
   "execution_count": 523,
   "id": "4095e4de",
   "metadata": {},
   "outputs": [
    {
     "data": {
      "text/html": [
       "<div>\n",
       "<style scoped>\n",
       "    .dataframe tbody tr th:only-of-type {\n",
       "        vertical-align: middle;\n",
       "    }\n",
       "\n",
       "    .dataframe tbody tr th {\n",
       "        vertical-align: top;\n",
       "    }\n",
       "\n",
       "    .dataframe thead tr th {\n",
       "        text-align: left;\n",
       "    }\n",
       "\n",
       "    .dataframe thead tr:last-of-type th {\n",
       "        text-align: right;\n",
       "    }\n",
       "</style>\n",
       "<table border=\"1\" class=\"dataframe\">\n",
       "  <thead>\n",
       "    <tr>\n",
       "      <th></th>\n",
       "      <th>title</th>\n",
       "      <th colspan=\"2\" halign=\"left\">budget_musd</th>\n",
       "      <th colspan=\"2\" halign=\"left\">revenue_musd</th>\n",
       "      <th>vote_average</th>\n",
       "    </tr>\n",
       "    <tr>\n",
       "      <th></th>\n",
       "      <th>count</th>\n",
       "      <th>sum</th>\n",
       "      <th>mean</th>\n",
       "      <th>sum</th>\n",
       "      <th>mean</th>\n",
       "      <th>mean</th>\n",
       "    </tr>\n",
       "    <tr>\n",
       "      <th>belongs_to_collection</th>\n",
       "      <th></th>\n",
       "      <th></th>\n",
       "      <th></th>\n",
       "      <th></th>\n",
       "      <th></th>\n",
       "      <th></th>\n",
       "    </tr>\n",
       "  </thead>\n",
       "  <tbody>\n",
       "    <tr>\n",
       "      <th>The Bowery Boys</th>\n",
       "      <td>29</td>\n",
       "      <td>0.0</td>\n",
       "      <td>NaN</td>\n",
       "      <td>0.0</td>\n",
       "      <td>NaN</td>\n",
       "      <td>6.675</td>\n",
       "    </tr>\n",
       "  </tbody>\n",
       "</table>\n",
       "</div>"
      ],
      "text/plain": [
       "                      title budget_musd      revenue_musd      vote_average\n",
       "                      count         sum mean          sum mean         mean\n",
       "belongs_to_collection                                                      \n",
       "The Bowery Boys          29         0.0  NaN          0.0  NaN        6.675"
      ]
     },
     "execution_count": 523,
     "metadata": {},
     "output_type": "execute_result"
    }
   ],
   "source": [
    "#total number of movies\n",
    "Fr.sort_values(by=('title', 'count'),ascending=False).head(1)"
   ]
  },
  {
   "cell_type": "code",
   "execution_count": 524,
   "id": "bf5bd9ac",
   "metadata": {},
   "outputs": [
    {
     "data": {
      "text/html": [
       "<div>\n",
       "<style scoped>\n",
       "    .dataframe tbody tr th:only-of-type {\n",
       "        vertical-align: middle;\n",
       "    }\n",
       "\n",
       "    .dataframe tbody tr th {\n",
       "        vertical-align: top;\n",
       "    }\n",
       "\n",
       "    .dataframe thead tr th {\n",
       "        text-align: left;\n",
       "    }\n",
       "\n",
       "    .dataframe thead tr:last-of-type th {\n",
       "        text-align: right;\n",
       "    }\n",
       "</style>\n",
       "<table border=\"1\" class=\"dataframe\">\n",
       "  <thead>\n",
       "    <tr>\n",
       "      <th></th>\n",
       "      <th>title</th>\n",
       "      <th colspan=\"2\" halign=\"left\">budget_musd</th>\n",
       "      <th colspan=\"2\" halign=\"left\">revenue_musd</th>\n",
       "      <th>vote_average</th>\n",
       "    </tr>\n",
       "    <tr>\n",
       "      <th></th>\n",
       "      <th>count</th>\n",
       "      <th>sum</th>\n",
       "      <th>mean</th>\n",
       "      <th>sum</th>\n",
       "      <th>mean</th>\n",
       "      <th>mean</th>\n",
       "    </tr>\n",
       "    <tr>\n",
       "      <th>belongs_to_collection</th>\n",
       "      <th></th>\n",
       "      <th></th>\n",
       "      <th></th>\n",
       "      <th></th>\n",
       "      <th></th>\n",
       "      <th></th>\n",
       "    </tr>\n",
       "  </thead>\n",
       "  <tbody>\n",
       "    <tr>\n",
       "      <th>Tangled Collection</th>\n",
       "      <td>2</td>\n",
       "      <td>260.0</td>\n",
       "      <td>260.0</td>\n",
       "      <td>591.794936</td>\n",
       "      <td>591.794936</td>\n",
       "      <td>7.25</td>\n",
       "    </tr>\n",
       "  </tbody>\n",
       "</table>\n",
       "</div>"
      ],
      "text/plain": [
       "                      title budget_musd        revenue_musd              \\\n",
       "                      count         sum   mean          sum        mean   \n",
       "belongs_to_collection                                                     \n",
       "Tangled Collection        2       260.0  260.0   591.794936  591.794936   \n",
       "\n",
       "                      vote_average  \n",
       "                              mean  \n",
       "belongs_to_collection               \n",
       "Tangled Collection            7.25  "
      ]
     },
     "execution_count": 524,
     "metadata": {},
     "output_type": "execute_result"
    }
   ],
   "source": [
    "#total & mean budget\n",
    "Fr.sort_values(by=( 'budget_musd',  'mean'),ascending=False).head(1)"
   ]
  },
  {
   "cell_type": "code",
   "execution_count": 525,
   "id": "3db53e00",
   "metadata": {},
   "outputs": [
    {
     "data": {
      "text/html": [
       "<div>\n",
       "<style scoped>\n",
       "    .dataframe tbody tr th:only-of-type {\n",
       "        vertical-align: middle;\n",
       "    }\n",
       "\n",
       "    .dataframe tbody tr th {\n",
       "        vertical-align: top;\n",
       "    }\n",
       "\n",
       "    .dataframe thead tr th {\n",
       "        text-align: left;\n",
       "    }\n",
       "\n",
       "    .dataframe thead tr:last-of-type th {\n",
       "        text-align: right;\n",
       "    }\n",
       "</style>\n",
       "<table border=\"1\" class=\"dataframe\">\n",
       "  <thead>\n",
       "    <tr>\n",
       "      <th></th>\n",
       "      <th>title</th>\n",
       "      <th colspan=\"2\" halign=\"left\">budget_musd</th>\n",
       "      <th colspan=\"2\" halign=\"left\">revenue_musd</th>\n",
       "      <th>vote_average</th>\n",
       "    </tr>\n",
       "    <tr>\n",
       "      <th></th>\n",
       "      <th>count</th>\n",
       "      <th>sum</th>\n",
       "      <th>mean</th>\n",
       "      <th>sum</th>\n",
       "      <th>mean</th>\n",
       "      <th>mean</th>\n",
       "    </tr>\n",
       "    <tr>\n",
       "      <th>belongs_to_collection</th>\n",
       "      <th></th>\n",
       "      <th></th>\n",
       "      <th></th>\n",
       "      <th></th>\n",
       "      <th></th>\n",
       "      <th></th>\n",
       "    </tr>\n",
       "  </thead>\n",
       "  <tbody>\n",
       "    <tr>\n",
       "      <th>Argo Collection</th>\n",
       "      <td>1</td>\n",
       "      <td>0.0</td>\n",
       "      <td>NaN</td>\n",
       "      <td>0.0</td>\n",
       "      <td>NaN</td>\n",
       "      <td>9.3</td>\n",
       "    </tr>\n",
       "  </tbody>\n",
       "</table>\n",
       "</div>"
      ],
      "text/plain": [
       "                      title budget_musd      revenue_musd      vote_average\n",
       "                      count         sum mean          sum mean         mean\n",
       "belongs_to_collection                                                      \n",
       "Argo Collection           1         0.0  NaN          0.0  NaN          9.3"
      ]
     },
     "execution_count": 525,
     "metadata": {},
     "output_type": "execute_result"
    }
   ],
   "source": [
    "#mean rating\n",
    "Fr.sort_values(by=('vote_average',  'mean'),ascending=False).head(1)"
   ]
  },
  {
   "cell_type": "markdown",
   "id": "6022be2e",
   "metadata": {},
   "source": [
    "# Most Successful Directors"
   ]
  },
  {
   "cell_type": "markdown",
   "id": "95791650",
   "metadata": {},
   "source": [
    "6. __Find__ the __most successful Directors__ in terms of\n",
    "- __total number of movies__\n",
    "- __total revenue__\n",
    "- __mean rating__"
   ]
  },
  {
   "cell_type": "code",
   "execution_count": 526,
   "id": "bc635394",
   "metadata": {},
   "outputs": [],
   "source": [
    "Dire=Data.groupby(Data['director']).agg({'title':'count','revenue_musd':'sum','vote_average':'mean'})"
   ]
  },
  {
   "cell_type": "code",
   "execution_count": 527,
   "id": "6d6e94af",
   "metadata": {},
   "outputs": [
    {
     "data": {
      "text/html": [
       "<div>\n",
       "<style scoped>\n",
       "    .dataframe tbody tr th:only-of-type {\n",
       "        vertical-align: middle;\n",
       "    }\n",
       "\n",
       "    .dataframe tbody tr th {\n",
       "        vertical-align: top;\n",
       "    }\n",
       "\n",
       "    .dataframe thead th {\n",
       "        text-align: right;\n",
       "    }\n",
       "</style>\n",
       "<table border=\"1\" class=\"dataframe\">\n",
       "  <thead>\n",
       "    <tr style=\"text-align: right;\">\n",
       "      <th></th>\n",
       "      <th>title</th>\n",
       "      <th>revenue_musd</th>\n",
       "      <th>vote_average</th>\n",
       "    </tr>\n",
       "    <tr>\n",
       "      <th>director</th>\n",
       "      <th></th>\n",
       "      <th></th>\n",
       "      <th></th>\n",
       "    </tr>\n",
       "  </thead>\n",
       "  <tbody>\n",
       "    <tr>\n",
       "      <th>John Ford</th>\n",
       "      <td>66</td>\n",
       "      <td>85.170757</td>\n",
       "      <td>6.381818</td>\n",
       "    </tr>\n",
       "  </tbody>\n",
       "</table>\n",
       "</div>"
      ],
      "text/plain": [
       "           title  revenue_musd  vote_average\n",
       "director                                    \n",
       "John Ford     66     85.170757      6.381818"
      ]
     },
     "execution_count": 527,
     "metadata": {},
     "output_type": "execute_result"
    }
   ],
   "source": [
    "#- __total number of movies__\n",
    "Dire.sort_values(by='title',ascending=False).head(1)"
   ]
  },
  {
   "cell_type": "code",
   "execution_count": 528,
   "id": "183fd970",
   "metadata": {},
   "outputs": [
    {
     "data": {
      "text/html": [
       "<div>\n",
       "<style scoped>\n",
       "    .dataframe tbody tr th:only-of-type {\n",
       "        vertical-align: middle;\n",
       "    }\n",
       "\n",
       "    .dataframe tbody tr th {\n",
       "        vertical-align: top;\n",
       "    }\n",
       "\n",
       "    .dataframe thead th {\n",
       "        text-align: right;\n",
       "    }\n",
       "</style>\n",
       "<table border=\"1\" class=\"dataframe\">\n",
       "  <thead>\n",
       "    <tr style=\"text-align: right;\">\n",
       "      <th></th>\n",
       "      <th>title</th>\n",
       "      <th>revenue_musd</th>\n",
       "      <th>vote_average</th>\n",
       "    </tr>\n",
       "    <tr>\n",
       "      <th>director</th>\n",
       "      <th></th>\n",
       "      <th></th>\n",
       "      <th></th>\n",
       "    </tr>\n",
       "  </thead>\n",
       "  <tbody>\n",
       "    <tr>\n",
       "      <th>Steven Spielberg</th>\n",
       "      <td>33</td>\n",
       "      <td>9256.621422</td>\n",
       "      <td>6.893939</td>\n",
       "    </tr>\n",
       "  </tbody>\n",
       "</table>\n",
       "</div>"
      ],
      "text/plain": [
       "                  title  revenue_musd  vote_average\n",
       "director                                           \n",
       "Steven Spielberg     33   9256.621422      6.893939"
      ]
     },
     "execution_count": 528,
     "metadata": {},
     "output_type": "execute_result"
    }
   ],
   "source": [
    "#- __total revenue__\n",
    "Dire.sort_values(by='revenue_musd',ascending=False).head(1)"
   ]
  },
  {
   "cell_type": "code",
   "execution_count": 529,
   "id": "296c4af6",
   "metadata": {},
   "outputs": [
    {
     "data": {
      "text/html": [
       "<div>\n",
       "<style scoped>\n",
       "    .dataframe tbody tr th:only-of-type {\n",
       "        vertical-align: middle;\n",
       "    }\n",
       "\n",
       "    .dataframe tbody tr th {\n",
       "        vertical-align: top;\n",
       "    }\n",
       "\n",
       "    .dataframe thead th {\n",
       "        text-align: right;\n",
       "    }\n",
       "</style>\n",
       "<table border=\"1\" class=\"dataframe\">\n",
       "  <thead>\n",
       "    <tr style=\"text-align: right;\">\n",
       "      <th></th>\n",
       "      <th>title</th>\n",
       "      <th>revenue_musd</th>\n",
       "      <th>vote_average</th>\n",
       "    </tr>\n",
       "    <tr>\n",
       "      <th>director</th>\n",
       "      <th></th>\n",
       "      <th></th>\n",
       "      <th></th>\n",
       "    </tr>\n",
       "  </thead>\n",
       "  <tbody>\n",
       "    <tr>\n",
       "      <th>Antonis Sotiropoulos</th>\n",
       "      <td>1</td>\n",
       "      <td>0.0</td>\n",
       "      <td>10.0</td>\n",
       "    </tr>\n",
       "  </tbody>\n",
       "</table>\n",
       "</div>"
      ],
      "text/plain": [
       "                      title  revenue_musd  vote_average\n",
       "director                                               \n",
       "Antonis Sotiropoulos      1           0.0          10.0"
      ]
     },
     "execution_count": 529,
     "metadata": {},
     "output_type": "execute_result"
    }
   ],
   "source": [
    "#- __mean rating__\n",
    "Dire.sort_values(by='vote_average',ascending=False).head(1)\n"
   ]
  },
  {
   "cell_type": "markdown",
   "id": "052a4262",
   "metadata": {},
   "source": [
    "# END"
   ]
  },
  {
   "cell_type": "code",
   "execution_count": null,
   "id": "56a92b2d",
   "metadata": {},
   "outputs": [],
   "source": []
  }
 ],
 "metadata": {
  "kernelspec": {
   "display_name": "Python 3 (ipykernel)",
   "language": "python",
   "name": "python3"
  },
  "language_info": {
   "codemirror_mode": {
    "name": "ipython",
    "version": 3
   },
   "file_extension": ".py",
   "mimetype": "text/x-python",
   "name": "python",
   "nbconvert_exporter": "python",
   "pygments_lexer": "ipython3",
   "version": "3.9.7"
  }
 },
 "nbformat": 4,
 "nbformat_minor": 5
}
